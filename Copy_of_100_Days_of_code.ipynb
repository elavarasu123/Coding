{
  "nbformat": 4,
  "nbformat_minor": 0,
  "metadata": {
    "colab": {
      "name": "Copy of 100 Days of code.ipynb",
      "provenance": [],
      "collapsed_sections": [],
      "authorship_tag": "ABX9TyPFVU8Qnzfwbrtv3rahj2Ms",
      "include_colab_link": true
    },
    "kernelspec": {
      "name": "python3",
      "display_name": "Python 3"
    }
  },
  "cells": [
    {
      "cell_type": "markdown",
      "metadata": {
        "id": "view-in-github",
        "colab_type": "text"
      },
      "source": [
        "<a href=\"https://colab.research.google.com/github/elavarasu123/Coding/blob/main/Copy_of_100_Days_of_code.ipynb\" target=\"_parent\"><img src=\"https://colab.research.google.com/assets/colab-badge.svg\" alt=\"Open In Colab\"/></a>"
      ]
    },
    {
      "cell_type": "markdown",
      "metadata": {
        "id": "QCMV7Bf3kO3b"
      },
      "source": [
        "#DAY 1\r\n",
        "\r\n",
        "Question : Write a program which will find all such numbers which are divisible by 7 but are not a multiple of 5, between 2000 and 3200 (both included). The numbers obtained should be printed in a comma-separated sequence on a single line."
      ]
    },
    {
      "cell_type": "markdown",
      "metadata": {
        "id": "xEAEr3m7dxnX"
      },
      "source": [
        ""
      ]
    },
    {
      "cell_type": "code",
      "metadata": {
        "id": "roWhG9MYb2IX"
      },
      "source": [
        "for i in range(2000,3201):\r\n",
        "  if i%7==0 and not(i%5==0):\r\n",
        "    print(i,end=\",\")"
      ],
      "execution_count": null,
      "outputs": []
    },
    {
      "cell_type": "markdown",
      "metadata": {
        "id": "esyFzYxQkzLF"
      },
      "source": [
        "Alternative Solution"
      ]
    },
    {
      "cell_type": "code",
      "metadata": {
        "id": "gO_Dnx0Tk3SC"
      },
      "source": [
        "result=[]\r\n",
        "for i in range(2000,3201):\r\n",
        "  if i%7==0 and not(i%5==0):\r\n",
        "    result.append(str(i))\r\n",
        "\r\n",
        "print(\",\".join(result))"
      ],
      "execution_count": null,
      "outputs": []
    },
    {
      "cell_type": "markdown",
      "metadata": {
        "id": "j8II7fzkdzeR"
      },
      "source": [
        "#DAY 2\r\n",
        "\r\n",
        "---\r\n",
        "Question : Write a program which can compute the factorial of a given numbers.\r\n",
        "\r\n",
        "\r\n",
        "\r\n",
        "\r\n",
        "Suppose the following input is supplied to the program:\r\n",
        "\r\n",
        "8\r\n",
        "\r\n",
        "Then, the output should be:\r\n",
        "\r\n",
        "40320"
      ]
    },
    {
      "cell_type": "code",
      "metadata": {
        "id": "AA_5ELKleFmY"
      },
      "source": [
        "#Using loop\r\n",
        "\r\n",
        "n=int(input(\"Enter number for factorial : \"))\r\n",
        "result=1\r\n",
        "for i in range(1,n+1):\r\n",
        "  result*=i\r\n",
        "print(result)"
      ],
      "execution_count": null,
      "outputs": []
    },
    {
      "cell_type": "markdown",
      "metadata": {
        "id": "M_f9eHkifAgV"
      },
      "source": [
        "Using Recurssion"
      ]
    },
    {
      "cell_type": "code",
      "metadata": {
        "id": "31GSwLu2fD7p"
      },
      "source": [
        "def rec(n):\r\n",
        "  if n==0:\r\n",
        "    return 1\r\n",
        "  return n*rec(n-1)\r\n",
        "\r\n",
        "n=int(input(\"Enter number for factorial : \"))\r\n",
        "print(rec(n))"
      ],
      "execution_count": null,
      "outputs": []
    },
    {
      "cell_type": "markdown",
      "metadata": {
        "id": "sViEtqE2bLpf"
      },
      "source": [
        "#DAY 3\r\n",
        "\r\n",
        "Question : With a given integral number n, write a program to generate a dictionary that contains (i, i*i) such that is an integral number between 1 and n (both included). and then the program should print the dictionary.\r\n",
        "\r\n",
        "Suppose the following input is supplied to the program:\r\n",
        "\r\n",
        "8\r\n",
        "\r\n",
        "Then, the output should be:\r\n",
        "\r\n",
        "{1: 1, 2: 4, 3: 9, 4: 16, 5: 25, 6: 36, 7: 49, 8: 64}"
      ]
    },
    {
      "cell_type": "code",
      "metadata": {
        "id": "L8F6gIxdbZgm",
        "colab": {
          "base_uri": "https://localhost:8080/"
        },
        "outputId": "a8900715-918b-4ee7-ceeb-16b254d4e804"
      },
      "source": [
        "n=int(input(\"Enter the number: \"))\r\n",
        "result=dict()  #{}\r\n",
        "\r\n",
        "for i in range(1,n+1):\r\n",
        "  result[i]=i*i\r\n",
        "print(result)"
      ],
      "execution_count": 1,
      "outputs": [
        {
          "output_type": "stream",
          "text": [
            "Enter the number: 8\n",
            "{1: 1, 2: 4, 3: 9, 4: 16, 5: 25, 6: 36, 7: 49, 8: 64}\n"
          ],
          "name": "stdout"
        }
      ]
    },
    {
      "cell_type": "markdown",
      "metadata": {
        "id": "4gZjR10g8Ifr"
      },
      "source": [
        "Alternative"
      ]
    },
    {
      "cell_type": "code",
      "metadata": {
        "colab": {
          "base_uri": "https://localhost:8080/"
        },
        "id": "XrC5JPnU8Kb0",
        "outputId": "ed8b02c1-33fc-4eb6-fe40-1ccad527386d"
      },
      "source": [
        "n=int(input(\"Enter the number: \"))\r\n",
        "result=dict()  #{}\r\n",
        "i=1\r\n",
        "while(i<=n):\r\n",
        "  result[i]=i*i\r\n",
        "  i=i+1\r\n",
        "print(result)"
      ],
      "execution_count": 2,
      "outputs": [
        {
          "output_type": "stream",
          "text": [
            "Enter the number: 8\n",
            "{1: 1, 2: 4, 3: 9, 4: 16, 5: 25, 6: 36, 7: 49, 8: 64}\n"
          ],
          "name": "stdout"
        }
      ]
    }
  ]
}