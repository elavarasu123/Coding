{
  "nbformat": 4,
  "nbformat_minor": 0,
  "metadata": {
    "colab": {
      "name": "100 Days of code.ipynb",
      "provenance": [],
      "collapsed_sections": [],
      "authorship_tag": "ABX9TyMB1QLh9ttkMgiOR5OYs3tA",
      "include_colab_link": true
    },
    "kernelspec": {
      "name": "python3",
      "display_name": "Python 3"
    }
  },
  "cells": [
    {
      "cell_type": "markdown",
      "metadata": {
        "id": "view-in-github",
        "colab_type": "text"
      },
      "source": [
        "<a href=\"https://colab.research.google.com/github/elavarasu123/Coding/blob/main/100_Days_of_code.ipynb\" target=\"_parent\"><img src=\"https://colab.research.google.com/assets/colab-badge.svg\" alt=\"Open In Colab\"/></a>"
      ]
    },
    {
      "cell_type": "markdown",
      "metadata": {
        "id": "QCMV7Bf3kO3b"
      },
      "source": [
        "#DAY 1\r\n",
        "\r\n",
        "Question : Write a program which will find all such numbers which are divisible by 7 but are not a multiple of 5, between 2000 and 3200 (both included). The numbers obtained should be printed in a comma-separated sequence on a single line."
      ]
    },
    {
      "cell_type": "code",
      "metadata": {
        "id": "roWhG9MYb2IX"
      },
      "source": [
        "for i in range(2000,3201):\r\n",
        "  if i%7==0 and not(i%5==0):\r\n",
        "    print(i,end=\",\")"
      ],
      "execution_count": null,
      "outputs": []
    },
    {
      "cell_type": "markdown",
      "metadata": {
        "id": "esyFzYxQkzLF"
      },
      "source": [
        "Alternative Solution"
      ]
    },
    {
      "cell_type": "code",
      "metadata": {
        "id": "gO_Dnx0Tk3SC"
      },
      "source": [
        "result=[]\r\n",
        "for i in range(2000,3201):\r\n",
        "  if i%7==0 and not(i%5==0):\r\n",
        "    result.append(str(i))\r\n",
        "\r\n",
        "print(\",\".join(result))"
      ],
      "execution_count": null,
      "outputs": []
    }
  ]
}