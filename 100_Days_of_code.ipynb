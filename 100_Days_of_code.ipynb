{
  "nbformat": 4,
  "nbformat_minor": 0,
  "metadata": {
    "colab": {
      "name": "100 Days of code.ipynb",
      "provenance": [],
      "collapsed_sections": [],
      "authorship_tag": "ABX9TyPYBeYxOt7sc6MQYbDTaqaO",
      "include_colab_link": true
    },
    "kernelspec": {
      "name": "python3",
      "display_name": "Python 3"
    }
  },
  "cells": [
    {
      "cell_type": "markdown",
      "metadata": {
        "id": "view-in-github",
        "colab_type": "text"
      },
      "source": [
        "<a href=\"https://colab.research.google.com/github/elavarasu123/Coding/blob/main/100_Days_of_code.ipynb\" target=\"_parent\"><img src=\"https://colab.research.google.com/assets/colab-badge.svg\" alt=\"Open In Colab\"/></a>"
      ]
    },
    {
      "cell_type": "markdown",
      "metadata": {
        "id": "QCMV7Bf3kO3b"
      },
      "source": [
        "#DAY 1\r\n",
        "\r\n",
        "Question : Write a program which will find all such numbers which are divisible by 7 but are not a multiple of 5, between 2000 and 3200 (both included). The numbers obtained should be printed in a comma-separated sequence on a single line."
      ]
    },
    {
      "cell_type": "markdown",
      "metadata": {
        "id": "xEAEr3m7dxnX"
      },
      "source": [
        ""
      ]
    },
    {
      "cell_type": "code",
      "metadata": {
        "id": "roWhG9MYb2IX"
      },
      "source": [
        "for i in range(2000,3201):\r\n",
        "  if i%7==0 and not(i%5==0):\r\n",
        "    print(i,end=\",\")"
      ],
      "execution_count": null,
      "outputs": []
    },
    {
      "cell_type": "markdown",
      "metadata": {
        "id": "esyFzYxQkzLF"
      },
      "source": [
        "Alternative Solution"
      ]
    },
    {
      "cell_type": "code",
      "metadata": {
        "id": "gO_Dnx0Tk3SC"
      },
      "source": [
        "result=[]\r\n",
        "for i in range(2000,3201):\r\n",
        "  if i%7==0 and not(i%5==0):\r\n",
        "    result.append(str(i))\r\n",
        "\r\n",
        "print(\",\".join(result))"
      ],
      "execution_count": null,
      "outputs": []
    },
    {
      "cell_type": "markdown",
      "metadata": {
        "id": "j8II7fzkdzeR"
      },
      "source": [
        "Day 2\r\n",
        "\r\n",
        "---\r\n",
        "Question : Write a program which can compute the factorial of a given numbers.\r\n",
        "\r\n",
        "\r\n",
        "\r\n",
        "\r\n",
        "Suppose the following input is supplied to the program:\r\n",
        "\r\n",
        "8\r\n",
        "\r\n",
        "Then, the output should be:\r\n",
        "\r\n",
        "40320"
      ]
    },
    {
      "cell_type": "code",
      "metadata": {
        "colab": {
          "base_uri": "https://localhost:8080/"
        },
        "id": "AA_5ELKleFmY",
        "outputId": "e86f63d3-d7e7-40c6-9e04-79095dcab66e"
      },
      "source": [
        "#Using loop\r\n",
        "\r\n",
        "n=int(input(\"Enter number for factorial : \"))\r\n",
        "result=1\r\n",
        "for i in range(1,n+1):\r\n",
        "  result*=i\r\n",
        "print(result)"
      ],
      "execution_count": 2,
      "outputs": [
        {
          "output_type": "stream",
          "text": [
            "Enter number for factorial : 8\n",
            "40320\n"
          ],
          "name": "stdout"
        }
      ]
    },
    {
      "cell_type": "markdown",
      "metadata": {
        "id": "M_f9eHkifAgV"
      },
      "source": [
        "Using Recurssion"
      ]
    },
    {
      "cell_type": "code",
      "metadata": {
        "colab": {
          "base_uri": "https://localhost:8080/"
        },
        "id": "31GSwLu2fD7p",
        "outputId": "ecd97ba1-4c9e-4ba4-8cd9-cd20555283c9"
      },
      "source": [
        "def rec(n):\r\n",
        "  if n==0:\r\n",
        "    return 1\r\n",
        "  return n*rec(n-1)\r\n",
        "\r\n",
        "n=int(input(\"Enter number for factorial : \"))\r\n",
        "print(rec(n))"
      ],
      "execution_count": 3,
      "outputs": [
        {
          "output_type": "stream",
          "text": [
            "Enter number for factorial : 8\n",
            "40320\n"
          ],
          "name": "stdout"
        }
      ]
    }
  ]
}